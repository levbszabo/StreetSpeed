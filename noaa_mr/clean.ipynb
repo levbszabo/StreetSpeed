{
 "metadata": {
  "language_info": {
   "codemirror_mode": {
    "name": "ipython",
    "version": 3
   },
   "file_extension": ".py",
   "mimetype": "text/x-python",
   "name": "python",
   "nbconvert_exporter": "python",
   "pygments_lexer": "ipython3",
   "version": "3.8.2-final"
  },
  "orig_nbformat": 2,
  "kernelspec": {
   "name": "python3",
   "display_name": "Python 3"
  }
 },
 "nbformat": 4,
 "nbformat_minor": 2,
 "cells": [
  {
   "cell_type": "code",
   "execution_count": 1,
   "metadata": {},
   "outputs": [
    {
     "output_type": "execute_result",
     "data": {
      "text/plain": [
       "['columns.txt',\n",
       " 'nyc_weather_2018-2019.3.csv',\n",
       " 'WeatherMapper.java',\n",
       " 'clean.ipynb']"
      ]
     },
     "metadata": {},
     "execution_count": 1
    }
   ],
   "source": [
    "import pandas as pd\n",
    "import numpy as np\n",
    "os.listdir()"
   ]
  },
  {
   "cell_type": "code",
   "execution_count": 9,
   "metadata": {},
   "outputs": [],
   "source": [
    "file = open(\"columns.txt\",\"r\")\n",
    "line = file.readlines()\n",
    "file.close()"
   ]
  },
  {
   "cell_type": "code",
   "execution_count": 10,
   "metadata": {},
   "outputs": [
    {
     "output_type": "stream",
     "name": "stdout",
     "text": [
      "[0] STATION\t\"72505394728\"\n[1] DATE\t\"2018-03-07T10:51:00\"\n[2] REPORT_TYPE\t\"FM-15\"\n[3] SOURCE\t\"7\"\n[4] AWND\t\n[5] BackupDirection\t\n[6] BackupDistance\t\n[7] BackupDistanceUnit\t\n[8] BackupElements\t\n[9] BackupElevation\t\n[10] BackupElevationUnit\t\n[11] BackupEquipment\t\n[12] BackupLatitude\t\n[13] BackupLongitude\t\n[14] BackupName\t\n[15] CDSD\t\n[16] CLDD\t\n[17] DSNW\t\n[18] DailyAverageDewPointTemperature\t\n[19] DailyAverageDryBulbTemperature\t\n[20] DailyAverageRelativeHumidity\t\n[21] DailyAverageSeaLevelPressure\t\n[22] DailyAverageStationPressure\t\n[23] DailyAverageWetBulbTemperature\t\n[24] DailyAverageWindSpeed\t\n[25] DailyCoolingDegreeDays\t\n[26] DailyDepartureFromNormalAverageTemperature\t\n[27] DailyHeatingDegreeDays\t\n[28] DailyMaximumDryBulbTemperature\t\n[29] DailyMinimumDryBulbTemperature\t\n[30] DailyPeakWindDirection\t\n[31] DailyPeakWindSpeed\t\n[32] DailyPrecipitation\t\n[33] DailySnowDepth\t\n[34] DailySnowfall\t\n[35] DailySustainedWindDirection\t\n[36] DailySustainedWindSpeed\t\n[37] DailyWeather\t\n[38] HDSD\t\n[39] HTDD\t\n[40] HeavyFog\t\n[41] HourlyAltimeterSetting\t\"29.72\"\n[42] HourlyDewPointTemperature\t\"33\"\n[43] HourlyDryBulbTemperature\t\"36\"\n[44] HourlyPrecipitation\t\"0.02\"\n[45] HourlyPresentWeatherType\t\"-SN:03 BR:1 |SN |\"\n[46] HourlyPressureChange\t\n[47] HourlyPressureTendency\t\n[48] HourlyRelativeHumidity\t\"89\"\n[49] HourlySeaLevelPressure\t\"29.69\"\n[50] HourlySkyConditions\t\"OVC:08 7\"\n[51] HourlyStationPressure\t\"29.55\"\n[52] HourlyVisibility\t\"4.00\"\n[53] HourlyWetBulbTemperature\t\"35\"\n[54] HourlyWindDirection\t\"060\"\n[55] HourlyWindGustSpeed\t\"29\"\n[56] HourlyWindSpeed\t\"18\"\n[57] MonthlyAverageRH\t\n[58] MonthlyDaysWithGT001Precip\t\n[59] MonthlyDaysWithGT010Precip\t\n[60] MonthlyDaysWithGT32Temp\t\n[61] MonthlyDaysWithGT90Temp\t\n[62] MonthlyDaysWithLT0Temp\t\n[63] MonthlyDaysWithLT32Temp\t\n[64] MonthlyDepartureFromNormalAverageTemperature\t\n[65] MonthlyDepartureFromNormalCoolingDegreeDays\t\n[66] MonthlyDepartureFromNormalHeatingDegreeDays\t\n[67] MonthlyDepartureFromNormalMaximumTemperature\t\n[68] MonthlyDepartureFromNormalMinimumTemperature\t\n[69] MonthlyDepartureFromNormalPrecipitation\t\n[70] MonthlyDewpointTemperature\t\n[71] MonthlyGreatestPrecip\t\n[72] MonthlyGreatestPrecipDate\t\n[73] MonthlyGreatestSnowDepth\t\n[74] MonthlyGreatestSnowDepthDate\t\n[75] MonthlyGreatestSnowfall\t\n[76] MonthlyGreatestSnowfallDate\t\n[77] MonthlyMaxSeaLevelPressureValue\t\n[78] MonthlyMaxSeaLevelPressureValueDate\t\n[79] MonthlyMaxSeaLevelPressureValueTime\t\n[80] MonthlyMaximumTemperature\t\n[81] MonthlyMeanTemperature\t\n[82] MonthlyMinSeaLevelPressureValue\t\n[83] MonthlyMinSeaLevelPressureValueDate\t\n[84] MonthlyMinSeaLevelPressureValueTime\t\n[85] MonthlyMinimumTemperature\t\n[86] MonthlySeaLevelPressure\t\n[87] MonthlyStationPressure\t\n[88] MonthlyTotalLiquidPrecipitation\t\n[89] MonthlyTotalSnowfall\t\n[90] MonthlyWetBulb\t\n[91] NormalsCoolingDegreeDay\t\n[92] NormalsHeatingDegreeDay\t\n[93] REM\t\"MET13703/07/18 10:51:02 METAR KNYC 071551Z 06016G25KT 4SM -SN BR OVC007 02/01 A2972 RMK AO2 PK WND 07030/1530 RAE22SNB22 SLP055 P0002 T00220006\"\n[94] REPORT_TYPE\t\"FM-15\"\n[95] SOURCE\t\"7\"\n[96] ShortDurationEndDate005\t\n[97] ShortDurationEndDate010\t\n[98] ShortDurationEndDate015\t\n[99] ShortDurationEndDate020\t\n[100] ShortDurationEndDate030\t\n[101] ShortDurationEndDate045\t\n[102] ShortDurationEndDate060\t\n[103] ShortDurationEndDate080\t\n[104] ShortDurationEndDate100\t\n[105] ShortDurationEndDate120\t\n[106] ShortDurationEndDate150\t\n[107] ShortDurationEndDate180\t\n[108] ShortDurationPrecipitationValue005\t\n[109] ShortDurationPrecipitationValue010\t\n[110] ShortDurationPrecipitationValue015\t\n[111] ShortDurationPrecipitationValue020\t\n[112] ShortDurationPrecipitationValue030\t\n[113] ShortDurationPrecipitationValue045\t\n[114] ShortDurationPrecipitationValue060\t\n[115] ShortDurationPrecipitationValue080\t\n[116] ShortDurationPrecipitationValue100\t\n[117] ShortDurationPrecipitationValue120\t\n[118] ShortDurationPrecipitationValue150\t\n[119] ShortDurationPrecipitationValue180\t\n[120] Sunrise\t\n[121] Sunset\t\n[122] TStorms\t\n[123] WindEquipmentChangeDate\t\n"
     ]
    }
   ],
   "source": [
    "columns = line[0].replace('\"', \"\").strip().split(\",\")\n",
    "data = line[1].strip().split(\",\")\n",
    "for i in range(len(columns)):\n",
    "    print('[' + str(i) + '] ' + columns[i] + '\\t' + data[i])"
   ]
  },
  {
   "cell_type": "code",
   "execution_count": 12,
   "metadata": {},
   "outputs": [],
   "source": [
    "d = {\n",
    "    'date': 1,\n",
    "    'HourlyDryBulbTemperature': 43,\n",
    "    'HourlyPrecipitation': 44,\n",
    "    'HourlyPresentWeatherType': 45,\n",
    "    'HourlySkyConditions': 50,\n",
    "    'HourlyVisibility': 52,\n",
    "    'HourlyWindGustSpeed': 55,\n",
    "    'HourlyWindSpeed': 56,\n",
    "    'REM': 93\n",
    "}"
   ]
  },
  {
   "cell_type": "code",
   "execution_count": 13,
   "metadata": {},
   "outputs": [
    {
     "output_type": "execute_result",
     "data": {
      "text/plain": [
       "{'date': 1,\n",
       " 'HourlyDryBulbTemperature': 43,\n",
       " 'HourlyPrecipitation': 44,\n",
       " 'HourlyPresentWeatherType': 45,\n",
       " 'HourlySkyConditions': 50,\n",
       " 'HourlyVisibility': 52,\n",
       " 'HourlyWindGustSpeed': 55,\n",
       " 'HourlyWindSpeed': 56,\n",
       " 'REM': 93}"
      ]
     },
     "metadata": {},
     "execution_count": 13
    }
   ],
   "source": [
    "d"
   ]
  },
  {
   "cell_type": "code",
   "execution_count": null,
   "metadata": {},
   "outputs": [],
   "source": []
  }
 ]
}